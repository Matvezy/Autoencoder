{
  "nbformat": 4,
  "nbformat_minor": 0,
  "metadata": {
    "colab": {
      "name": "Untitled1.ipynb",
      "provenance": [],
      "collapsed_sections": [],
      "toc_visible": true,
      "include_colab_link": true
    },
    "kernelspec": {
      "name": "python3",
      "display_name": "Python 3"
    },
    "accelerator": "GPU"
  },
  "cells": [
    {
      "cell_type": "markdown",
      "metadata": {
        "id": "view-in-github",
        "colab_type": "text"
      },
      "source": [
        "<a href=\"https://colab.research.google.com/github/Matvezy/Autoencoder/blob/master/Autoencoder.ipynb\" target=\"_parent\"><img src=\"https://colab.research.google.com/assets/colab-badge.svg\" alt=\"Open In Colab\"/></a>"
      ]
    },
    {
      "cell_type": "markdown",
      "metadata": {
        "id": "P65Vjgsj53kQ",
        "colab_type": "text"
      },
      "source": [
        "# Matvei Popov, Auto-encoder with multiple layers for Google Code in \n",
        "I am going to process the images from cifar10 datset, which is included in keras library, they are colored which makes the algorithm a bit more comlex, it is easier for me, cause I don not have to worry about uploading datasets in colab, and it also looks better than gray and white pictures :) \n",
        "\n",
        "I am going to use multiple layers convolutional neural network, lets get started.\n",
        "\n",
        "# Imports: "
      ]
    },
    {
      "cell_type": "code",
      "metadata": {
        "id": "BcV8I2hy53uM",
        "colab_type": "code",
        "colab": {}
      },
      "source": [
        "from keras.models import load_model, Model\n",
        "from keras.datasets import cifar10\n",
        "from keras.layers import Input, Dense, Conv2D, MaxPooling2D, UpSampling2D, BatchNormalization, Activation\n",
        "from keras.optimizers import Adam\n",
        "import matplotlib.pyplot as plt\n",
        "import numpy as np"
      ],
      "execution_count": 0,
      "outputs": []
    },
    {
      "cell_type": "markdown",
      "metadata": {
        "colab_type": "text",
        "id": "cW0GPsh_VIQu"
      },
      "source": [
        "Initializing the parametrs"
      ]
    },
    {
      "cell_type": "code",
      "metadata": {
        "id": "MABfr-M4U3ya",
        "colab_type": "code",
        "colab": {}
      },
      "source": [
        "batch_size = 256\n",
        "epochs = 100"
      ],
      "execution_count": 0,
      "outputs": []
    },
    {
      "cell_type": "markdown",
      "metadata": {
        "id": "rvuHB1VrVQhr",
        "colab_type": "text"
      },
      "source": [
        "Uploading and initializing dataset"
      ]
    },
    {
      "cell_type": "code",
      "metadata": {
        "id": "O5GQYcdtVQxo",
        "colab_type": "code",
        "outputId": "bff641b9-4c53-4a55-e9a1-7323efbc699a",
        "colab": {
          "base_uri": "https://localhost:8080/",
          "height": 34
        }
      },
      "source": [
        "(x_train, y_train), (x_test, y_test) = cifar10.load_data()\n",
        "x_train = x_train.astype('float32')/255.\n",
        "x_test = x_test.astype('float32')/255.\n",
        "print(\"Train shape:\", x_train.shape)\n",
        "# Got 50000 images in train dataset, with 32x32 in size"
      ],
      "execution_count": 120,
      "outputs": [
        {
          "output_type": "stream",
          "text": [
            "Train shape: (50000, 32, 32, 3)\n"
          ],
          "name": "stdout"
        }
      ]
    },
    {
      "cell_type": "markdown",
      "metadata": {
        "id": "WSAYFMRFVykr",
        "colab_type": "text"
      },
      "source": [
        "Dividing data into validation and test datasets"
      ]
    },
    {
      "cell_type": "code",
      "metadata": {
        "id": "BQkxXTrpVyvM",
        "colab_type": "code",
        "colab": {}
      },
      "source": [
        "x_validation = x_test[:5000]\n",
        "x_test = x_test[5000:]"
      ],
      "execution_count": 0,
      "outputs": []
    },
    {
      "cell_type": "markdown",
      "metadata": {
        "id": "wANiqi_2WKe9",
        "colab_type": "text"
      },
      "source": [
        "Defining the encoder network layers"
      ]
    },
    {
      "cell_type": "code",
      "metadata": {
        "id": "34kH_6h4WKrZ",
        "colab_type": "code",
        "colab": {}
      },
      "source": [
        "input_img = Input(shape=(32, 32, 3)) #input\n",
        "x = Conv2D(64, (3, 3), padding='same', activation='relu')(input_img)\n",
        "x = BatchNormalization()(x)\n",
        "x = MaxPooling2D((2, 2), padding='same')(x)\n",
        "x = Conv2D(32, (3, 3), padding='same', activation='relu')(x)\n",
        "x = BatchNormalization()(x)\n",
        "x = MaxPooling2D((2, 2), padding='same')(x)\n",
        "x = Conv2D(16, (3, 3), padding='same', activation='relu')(x)\n",
        "x = BatchNormalization()(x)\n",
        "x = MaxPooling2D((2, 2), padding='same')(x)\n",
        "x = Conv2D(8, (3, 3), padding='same', activation='relu')(x)\n",
        "x = BatchNormalization()(x)\n",
        "encoded = MaxPooling2D((2, 2), padding='same')(x) #we have reached the bottleneck layer\n"
      ],
      "execution_count": 0,
      "outputs": []
    },
    {
      "cell_type": "markdown",
      "metadata": {
        "id": "aT4b88T-WwlY",
        "colab_type": "text"
      },
      "source": [
        "Defining decoder network layers"
      ]
    },
    {
      "cell_type": "code",
      "metadata": {
        "id": "IIrVn3Z8WwxH",
        "colab_type": "code",
        "colab": {}
      },
      "source": [
        "input_encoded = Input(shape=(3, 3, 8))\n",
        "x = Conv2D(8, (3, 3), padding='same', activation='relu')(input_encoded)\n",
        "x = BatchNormalization()(x)\n",
        "x = Activation('relu')(x)\n",
        "x = UpSampling2D((2, 2))(x)\n",
        "x = Conv2D(16, (3, 3), padding='same', activation='relu')(x)\n",
        "x = BatchNormalization()(x)\n",
        "x = Activation('relu')(x)\n",
        "x = UpSampling2D((2, 2))(x)\n",
        "x = Conv2D(32, (3, 3), padding='same', activation='relu')(x)\n",
        "x = BatchNormalization()(x)\n",
        "x = Activation('relu')(x)\n",
        "x = UpSampling2D((2, 2))(x)\n",
        "x = Conv2D(64, (3, 3), padding='same', activation='relu')(x)\n",
        "x = BatchNormalization()(x)\n",
        "x = Activation('relu')(x)\n",
        "x = UpSampling2D((2, 2))(x)\n",
        "x = Conv2D(3, (3, 3), padding='same', activation='sigmoid')(x)\n",
        "decoded = BatchNormalization()(x) #we got input back"
      ],
      "execution_count": 0,
      "outputs": []
    },
    {
      "cell_type": "markdown",
      "metadata": {
        "id": "XrDHDFdGW5rX",
        "colab_type": "text"
      },
      "source": [
        "Initializing encoder, decoder and autoencoder models"
      ]
    },
    {
      "cell_type": "code",
      "metadata": {
        "id": "wj3eLDFXW53L",
        "colab_type": "code",
        "outputId": "b469fdf8-9682-45d2-b782-3504a977453e",
        "colab": {
          "base_uri": "https://localhost:8080/",
          "height": 263
        }
      },
      "source": [
        "encoder= Model(input_img, encoded, name=\"encoder\")\n",
        "decoder = Model(input_encoded, decoded, name=\"decoder\")\n",
        "autoencoder = Model(input_img, decoder(encoder(input_img)), name=\"autoencoder\")\n",
        "#should use mean_squared_error because there are 256 color values, so nums are in interval between 0 and 255\n",
        "autoencoder.compile(optimizer='adam', loss='mean_squared_error')\n",
        "#summary for the whole autoencoder network\n",
        "autoencoder.summary()"
      ],
      "execution_count": 124,
      "outputs": [
        {
          "output_type": "stream",
          "text": [
            "Model: \"autoencoder\"\n",
            "_________________________________________________________________\n",
            "Layer (type)                 Output Shape              Param #   \n",
            "=================================================================\n",
            "input_30 (InputLayer)        (None, 32, 32, 3)         0         \n",
            "_________________________________________________________________\n",
            "encoder (Model)              (None, 2, 2, 8)           26520     \n",
            "_________________________________________________________________\n",
            "decoder (Model)              multiple                  27111     \n",
            "=================================================================\n",
            "Total params: 53,631\n",
            "Trainable params: 53,145\n",
            "Non-trainable params: 486\n",
            "_________________________________________________________________\n"
          ],
          "name": "stdout"
        }
      ]
    },
    {
      "cell_type": "markdown",
      "metadata": {
        "id": "7Nhe6eddXeMw",
        "colab_type": "text"
      },
      "source": [
        "Train network"
      ]
    },
    {
      "cell_type": "code",
      "metadata": {
        "id": "itRh2bx8XeZW",
        "colab_type": "code",
        "outputId": "eb01ed26-27ca-4575-a2b2-19fbc66cffb1",
        "colab": {
          "base_uri": "https://localhost:8080/",
          "height": 1000
        }
      },
      "source": [
        "autoencoder.fit(x_train, x_train,\n",
        "                epochs=epochs,\n",
        "                batch_size=batch_size,\n",
        "                shuffle=True,\n",
        "                verbose=1,\n",
        "                validation_data=(x_validation, x_validation),\n",
        "                use_multiprocessing=True\n",
        "                )"
      ],
      "execution_count": 125,
      "outputs": [
        {
          "output_type": "stream",
          "text": [
            "Train on 50000 samples, validate on 5000 samples\n",
            "Epoch 1/100\n",
            "50000/50000 [==============================] - 12s 237us/step - loss: 0.5193 - val_loss: 0.1861\n",
            "Epoch 2/100\n",
            "50000/50000 [==============================] - 6s 122us/step - loss: 0.1002 - val_loss: 0.0589\n",
            "Epoch 3/100\n",
            "50000/50000 [==============================] - 6s 122us/step - loss: 0.0543 - val_loss: 0.0395\n",
            "Epoch 4/100\n",
            "50000/50000 [==============================] - 6s 120us/step - loss: 0.0398 - val_loss: 0.0550\n",
            "Epoch 5/100\n",
            "50000/50000 [==============================] - 6s 120us/step - loss: 0.0367 - val_loss: 0.0552\n",
            "Epoch 6/100\n",
            "50000/50000 [==============================] - 6s 121us/step - loss: 0.0332 - val_loss: 0.0557\n",
            "Epoch 7/100\n",
            "50000/50000 [==============================] - 6s 123us/step - loss: 0.0326 - val_loss: 0.0906\n",
            "Epoch 8/100\n",
            "50000/50000 [==============================] - 6s 126us/step - loss: 0.0306 - val_loss: 0.0715\n",
            "Epoch 9/100\n",
            "50000/50000 [==============================] - 6s 122us/step - loss: 0.0295 - val_loss: 0.0846\n",
            "Epoch 10/100\n",
            "50000/50000 [==============================] - 6s 121us/step - loss: 0.0269 - val_loss: 0.0799\n",
            "Epoch 11/100\n",
            "50000/50000 [==============================] - 6s 121us/step - loss: 0.0257 - val_loss: 0.0953\n",
            "Epoch 12/100\n",
            "50000/50000 [==============================] - 6s 120us/step - loss: 0.0252 - val_loss: 0.0801\n",
            "Epoch 13/100\n",
            "50000/50000 [==============================] - 6s 120us/step - loss: 0.0239 - val_loss: 0.0681\n",
            "Epoch 14/100\n",
            "50000/50000 [==============================] - 6s 119us/step - loss: 0.0236 - val_loss: 0.0936\n",
            "Epoch 15/100\n",
            "50000/50000 [==============================] - 6s 118us/step - loss: 0.0230 - val_loss: 0.0862\n",
            "Epoch 16/100\n",
            "50000/50000 [==============================] - 6s 119us/step - loss: 0.0223 - val_loss: 0.0934\n",
            "Epoch 17/100\n",
            "50000/50000 [==============================] - 6s 118us/step - loss: 0.0218 - val_loss: 0.0758\n",
            "Epoch 18/100\n",
            "50000/50000 [==============================] - 6s 120us/step - loss: 0.0213 - val_loss: 0.0592\n",
            "Epoch 19/100\n",
            "50000/50000 [==============================] - 6s 118us/step - loss: 0.0206 - val_loss: 0.0456\n",
            "Epoch 20/100\n",
            "50000/50000 [==============================] - 6s 119us/step - loss: 0.0204 - val_loss: 0.0457\n",
            "Epoch 21/100\n",
            "50000/50000 [==============================] - 6s 119us/step - loss: 0.0201 - val_loss: 0.0418\n",
            "Epoch 22/100\n",
            "50000/50000 [==============================] - 6s 119us/step - loss: 0.0195 - val_loss: 0.0327\n",
            "Epoch 23/100\n",
            "50000/50000 [==============================] - 6s 120us/step - loss: 0.0193 - val_loss: 0.0314\n",
            "Epoch 24/100\n",
            "50000/50000 [==============================] - 6s 119us/step - loss: 0.0190 - val_loss: 0.0289\n",
            "Epoch 25/100\n",
            "50000/50000 [==============================] - 6s 117us/step - loss: 0.0187 - val_loss: 0.0240\n",
            "Epoch 26/100\n",
            "50000/50000 [==============================] - 6s 118us/step - loss: 0.0185 - val_loss: 0.0263\n",
            "Epoch 27/100\n",
            "50000/50000 [==============================] - 6s 118us/step - loss: 0.0182 - val_loss: 0.0231\n",
            "Epoch 28/100\n",
            "50000/50000 [==============================] - 6s 119us/step - loss: 0.0181 - val_loss: 0.0203\n",
            "Epoch 29/100\n",
            "50000/50000 [==============================] - 6s 117us/step - loss: 0.0178 - val_loss: 0.0220\n",
            "Epoch 30/100\n",
            "50000/50000 [==============================] - 6s 117us/step - loss: 0.0177 - val_loss: 0.0230\n",
            "Epoch 31/100\n",
            "50000/50000 [==============================] - 6s 118us/step - loss: 0.0175 - val_loss: 0.0203\n",
            "Epoch 32/100\n",
            "50000/50000 [==============================] - 6s 118us/step - loss: 0.0172 - val_loss: 0.0194\n",
            "Epoch 33/100\n",
            "50000/50000 [==============================] - 6s 117us/step - loss: 0.0172 - val_loss: 0.0193\n",
            "Epoch 34/100\n",
            "50000/50000 [==============================] - 6s 118us/step - loss: 0.0170 - val_loss: 0.0186\n",
            "Epoch 35/100\n",
            "50000/50000 [==============================] - 6s 117us/step - loss: 0.0169 - val_loss: 0.0182\n",
            "Epoch 36/100\n",
            "50000/50000 [==============================] - 6s 118us/step - loss: 0.0168 - val_loss: 0.0174\n",
            "Epoch 37/100\n",
            "50000/50000 [==============================] - 6s 119us/step - loss: 0.0167 - val_loss: 0.0185\n",
            "Epoch 38/100\n",
            "50000/50000 [==============================] - 6s 118us/step - loss: 0.0166 - val_loss: 0.0168\n",
            "Epoch 39/100\n",
            "50000/50000 [==============================] - 6s 118us/step - loss: 0.0165 - val_loss: 0.0167\n",
            "Epoch 40/100\n",
            "50000/50000 [==============================] - 6s 118us/step - loss: 0.0164 - val_loss: 0.0175\n",
            "Epoch 41/100\n",
            "50000/50000 [==============================] - 6s 118us/step - loss: 0.0163 - val_loss: 0.0171\n",
            "Epoch 42/100\n",
            "50000/50000 [==============================] - 6s 118us/step - loss: 0.0162 - val_loss: 0.0162\n",
            "Epoch 43/100\n",
            "50000/50000 [==============================] - 6s 118us/step - loss: 0.0161 - val_loss: 0.0165\n",
            "Epoch 44/100\n",
            "50000/50000 [==============================] - 6s 118us/step - loss: 0.0161 - val_loss: 0.0161\n",
            "Epoch 45/100\n",
            "50000/50000 [==============================] - 6s 118us/step - loss: 0.0159 - val_loss: 0.0162\n",
            "Epoch 46/100\n",
            "50000/50000 [==============================] - 6s 117us/step - loss: 0.0158 - val_loss: 0.0165\n",
            "Epoch 47/100\n",
            "50000/50000 [==============================] - 6s 119us/step - loss: 0.0159 - val_loss: 0.0161\n",
            "Epoch 48/100\n",
            "50000/50000 [==============================] - 6s 119us/step - loss: 0.0157 - val_loss: 0.0160\n",
            "Epoch 49/100\n",
            "50000/50000 [==============================] - 6s 118us/step - loss: 0.0157 - val_loss: 0.0160\n",
            "Epoch 50/100\n",
            "50000/50000 [==============================] - 6s 118us/step - loss: 0.0156 - val_loss: 0.0157\n",
            "Epoch 51/100\n",
            "50000/50000 [==============================] - 6s 118us/step - loss: 0.0155 - val_loss: 0.0158\n",
            "Epoch 52/100\n",
            "50000/50000 [==============================] - 6s 117us/step - loss: 0.0155 - val_loss: 0.0161\n",
            "Epoch 53/100\n",
            "50000/50000 [==============================] - 6s 117us/step - loss: 0.0154 - val_loss: 0.0158\n",
            "Epoch 54/100\n",
            "50000/50000 [==============================] - 6s 117us/step - loss: 0.0153 - val_loss: 0.0159\n",
            "Epoch 55/100\n",
            "50000/50000 [==============================] - 6s 118us/step - loss: 0.0154 - val_loss: 0.0154\n",
            "Epoch 56/100\n",
            "50000/50000 [==============================] - 6s 118us/step - loss: 0.0153 - val_loss: 0.0157\n",
            "Epoch 57/100\n",
            "50000/50000 [==============================] - 6s 118us/step - loss: 0.0153 - val_loss: 0.0155\n",
            "Epoch 58/100\n",
            "50000/50000 [==============================] - 6s 117us/step - loss: 0.0152 - val_loss: 0.0155\n",
            "Epoch 59/100\n",
            "50000/50000 [==============================] - 6s 118us/step - loss: 0.0152 - val_loss: 0.0154\n",
            "Epoch 60/100\n",
            "50000/50000 [==============================] - 6s 121us/step - loss: 0.0152 - val_loss: 0.0153\n",
            "Epoch 61/100\n",
            "50000/50000 [==============================] - 6s 120us/step - loss: 0.0151 - val_loss: 0.0151\n",
            "Epoch 62/100\n",
            "50000/50000 [==============================] - 6s 118us/step - loss: 0.0151 - val_loss: 0.0155\n",
            "Epoch 63/100\n",
            "50000/50000 [==============================] - 6s 117us/step - loss: 0.0150 - val_loss: 0.0154\n",
            "Epoch 64/100\n",
            "50000/50000 [==============================] - 6s 119us/step - loss: 0.0150 - val_loss: 0.0154\n",
            "Epoch 65/100\n",
            "50000/50000 [==============================] - 6s 118us/step - loss: 0.0150 - val_loss: 0.0154\n",
            "Epoch 66/100\n",
            "50000/50000 [==============================] - 6s 117us/step - loss: 0.0150 - val_loss: 0.0156\n",
            "Epoch 67/100\n",
            "50000/50000 [==============================] - 6s 118us/step - loss: 0.0150 - val_loss: 0.0151\n",
            "Epoch 68/100\n",
            "50000/50000 [==============================] - 6s 117us/step - loss: 0.0149 - val_loss: 0.0151\n",
            "Epoch 69/100\n",
            "50000/50000 [==============================] - 6s 117us/step - loss: 0.0149 - val_loss: 0.0156\n",
            "Epoch 70/100\n",
            "50000/50000 [==============================] - 6s 117us/step - loss: 0.0149 - val_loss: 0.0152\n",
            "Epoch 71/100\n",
            "50000/50000 [==============================] - 6s 118us/step - loss: 0.0149 - val_loss: 0.0164\n",
            "Epoch 72/100\n",
            "50000/50000 [==============================] - 6s 118us/step - loss: 0.0149 - val_loss: 0.0152\n",
            "Epoch 73/100\n",
            "50000/50000 [==============================] - 6s 117us/step - loss: 0.0148 - val_loss: 0.0148\n",
            "Epoch 74/100\n",
            "50000/50000 [==============================] - 6s 118us/step - loss: 0.0148 - val_loss: 0.0151\n",
            "Epoch 75/100\n",
            "50000/50000 [==============================] - 6s 118us/step - loss: 0.0148 - val_loss: 0.0152\n",
            "Epoch 76/100\n",
            "50000/50000 [==============================] - 6s 118us/step - loss: 0.0148 - val_loss: 0.0150\n",
            "Epoch 77/100\n",
            "50000/50000 [==============================] - 6s 119us/step - loss: 0.0148 - val_loss: 0.0153\n",
            "Epoch 78/100\n",
            "50000/50000 [==============================] - 6s 117us/step - loss: 0.0148 - val_loss: 0.0151\n",
            "Epoch 79/100\n",
            "50000/50000 [==============================] - 6s 117us/step - loss: 0.0148 - val_loss: 0.0152\n",
            "Epoch 80/100\n",
            "50000/50000 [==============================] - 6s 117us/step - loss: 0.0147 - val_loss: 0.0154\n",
            "Epoch 81/100\n",
            "50000/50000 [==============================] - 6s 118us/step - loss: 0.0147 - val_loss: 0.0149\n",
            "Epoch 82/100\n",
            "50000/50000 [==============================] - 6s 118us/step - loss: 0.0147 - val_loss: 0.0151\n",
            "Epoch 83/100\n",
            "50000/50000 [==============================] - 6s 117us/step - loss: 0.0147 - val_loss: 0.0153\n",
            "Epoch 84/100\n",
            "50000/50000 [==============================] - 6s 117us/step - loss: 0.0147 - val_loss: 0.0149\n",
            "Epoch 85/100\n",
            "50000/50000 [==============================] - 6s 117us/step - loss: 0.0147 - val_loss: 0.0150\n",
            "Epoch 86/100\n",
            "50000/50000 [==============================] - 6s 117us/step - loss: 0.0147 - val_loss: 0.0150\n",
            "Epoch 87/100\n",
            "50000/50000 [==============================] - 6s 117us/step - loss: 0.0147 - val_loss: 0.0155\n",
            "Epoch 88/100\n",
            "50000/50000 [==============================] - 6s 117us/step - loss: 0.0146 - val_loss: 0.0154\n",
            "Epoch 89/100\n",
            "50000/50000 [==============================] - 6s 118us/step - loss: 0.0146 - val_loss: 0.0151\n",
            "Epoch 90/100\n",
            "50000/50000 [==============================] - 6s 118us/step - loss: 0.0146 - val_loss: 0.0148\n",
            "Epoch 91/100\n",
            "50000/50000 [==============================] - 6s 118us/step - loss: 0.0146 - val_loss: 0.0148\n",
            "Epoch 92/100\n",
            "50000/50000 [==============================] - 6s 118us/step - loss: 0.0146 - val_loss: 0.0150\n",
            "Epoch 93/100\n",
            "50000/50000 [==============================] - 6s 118us/step - loss: 0.0146 - val_loss: 0.0147\n",
            "Epoch 94/100\n",
            "50000/50000 [==============================] - 6s 116us/step - loss: 0.0146 - val_loss: 0.0148\n",
            "Epoch 95/100\n",
            "50000/50000 [==============================] - 6s 117us/step - loss: 0.0146 - val_loss: 0.0147\n",
            "Epoch 96/100\n",
            "50000/50000 [==============================] - 6s 117us/step - loss: 0.0146 - val_loss: 0.0148\n",
            "Epoch 97/100\n",
            "50000/50000 [==============================] - 6s 117us/step - loss: 0.0146 - val_loss: 0.0149\n",
            "Epoch 98/100\n",
            "50000/50000 [==============================] - 6s 117us/step - loss: 0.0145 - val_loss: 0.0147\n",
            "Epoch 99/100\n",
            "50000/50000 [==============================] - 6s 118us/step - loss: 0.0145 - val_loss: 0.0146\n",
            "Epoch 100/100\n",
            "50000/50000 [==============================] - 6s 117us/step - loss: 0.0145 - val_loss: 0.0146\n"
          ],
          "name": "stdout"
        },
        {
          "output_type": "execute_result",
          "data": {
            "text/plain": [
              "<keras.callbacks.History at 0x7f4b679f9390>"
            ]
          },
          "metadata": {
            "tags": []
          },
          "execution_count": 125
        }
      ]
    },
    {
      "cell_type": "markdown",
      "metadata": {
        "id": "tAGtScwMXp1I",
        "colab_type": "text"
      },
      "source": [
        "Calculating the score for autoencoder, test, validate (I definetly did not get the best ones)"
      ]
    },
    {
      "cell_type": "code",
      "metadata": {
        "id": "ushLJMBCXqAa",
        "colab_type": "code",
        "outputId": "772f4260-4e15-4dc0-cbb5-287959aef905",
        "colab": {
          "base_uri": "https://localhost:8080/",
          "height": 70
        }
      },
      "source": [
        "score = autoencoder.evaluate(x_test, x_test)\n",
        "print(score)\n",
        "test = autoencoder.predict(x_test)\n",
        "validate = autoencoder.predict(x_validation)\n",
        "print(\"Test:\",np.average(test), \"Validate:\", np.average(validate))"
      ],
      "execution_count": 126,
      "outputs": [
        {
          "output_type": "stream",
          "text": [
            "5000/5000 [==============================] - 1s 131us/step\n",
            "0.014310729026794434\n",
            "Test: 0.47332352 Validate: 0.47948217\n"
          ],
          "name": "stdout"
        }
      ]
    },
    {
      "cell_type": "markdown",
      "metadata": {
        "id": "-1Y34lKGt_e-",
        "colab_type": "text"
      },
      "source": [
        "Displaying the result for test datset"
      ]
    },
    {
      "cell_type": "code",
      "metadata": {
        "id": "KEOAzCgutQx5",
        "colab_type": "code",
        "outputId": "ad337960-4160-4913-837d-83cff4344ffa",
        "colab": {
          "base_uri": "https://localhost:8080/",
          "height": 306
        }
      },
      "source": [
        "plt.figure(figsize=(20, 5))\n",
        "for i in range(0,3):\n",
        "  # display original data\n",
        "  ax = plt.subplot(2, 5, i+1)\n",
        "  plt.imshow(x_test[i].reshape(32, 32, 3))\n",
        "  ax.get_xaxis().set_visible(False)\n",
        "  ax.get_yaxis().set_visible(False)\n",
        "\n",
        "  # display encode-decode data\n",
        "  ax = plt.subplot(2, 5, i +1 + 5)\n",
        "  plt.imshow(test[i].reshape(32, 32, 3))\n",
        "  ax.get_xaxis().set_visible(False)\n",
        "  ax.get_yaxis().set_visible(False)\n",
        "plt.show()"
      ],
      "execution_count": 147,
      "outputs": [
        {
          "output_type": "display_data",
          "data": {
            "image/png": "[encoded data removed]",
            "text/plain": [
              "<Figure size 1440x360 with 6 Axes>"
            ]
          },
          "metadata": {
            "tags": []
          }
        }
      ]
    },
    {
      "cell_type": "markdown",
      "metadata": {
        "id": "2y5VcDbLuDl2",
        "colab_type": "text"
      },
      "source": [
        "Displaying the result for validate dataset"
      ]
    },
    {
      "cell_type": "code",
      "metadata": {
        "id": "mU6FircKueio",
        "colab_type": "code",
        "outputId": "d6e03cbf-e5a5-4aed-e171-c8dfd91d692d",
        "colab": {
          "base_uri": "https://localhost:8080/",
          "height": 306
        }
      },
      "source": [
        "plt.figure(figsize=(20, 5))\n",
        "for i in range(2,5):\n",
        "  ax = plt.subplot(2, 5, i+1)\n",
        "  plt.imshow(x_validation[i].reshape(32, 32, 3))\n",
        "  ax.get_xaxis().set_visible(False)\n",
        "  ax.get_yaxis().set_visible(False)\n",
        "\n",
        "  ax = plt.subplot(2, 5, i +1 + 5)\n",
        "  plt.imshow(validate[i].reshape(32, 32, 3))\n",
        "  ax.get_xaxis().set_visible(False)\n",
        "  ax.get_yaxis().set_visible(False)\n",
        "plt.show()"
      ],
      "execution_count": 145,
      "outputs": [
        {
          "output_type": "display_data",
          "data": {
            "image/png": "[encoded data removed]",
            "text/plain": [
              "<Figure size 1440x360 with 6 Axes>"
            ]
          },
          "metadata": {
            "tags": []
          }
        }
      ]
    },
    {
      "cell_type": "markdown",
      "metadata": {
        "id": "JKsVumdSvBRU",
        "colab_type": "text"
      },
      "source": [
        "# Overall, I did  not get the best result, I am confused about where I could have made a mistake but right now autoencoder poorly does its job."
      ]
    }
  ]
}