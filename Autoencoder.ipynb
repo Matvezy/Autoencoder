{
  "nbformat": 4,
  "nbformat_minor": 0,
  "metadata": {
    "colab": {
      "name": "Untitled1.ipynb",
      "provenance": [],
      "collapsed_sections": [],
      "toc_visible": true,
      "include_colab_link": true
    },
    "kernelspec": {
      "name": "python3",
      "display_name": "Python 3"
    },
    "accelerator": "GPU"
  },
  "cells": [
    {
      "cell_type": "markdown",
      "metadata": {
        "id": "view-in-github",
        "colab_type": "text"
      },
      "source": [
        "<a href=\"https://colab.research.google.com/github/Matvezy/Autoencoder/blob/master/Autoencoder.ipynb\" target=\"_parent\"><img src=\"https://colab.research.google.com/assets/colab-badge.svg\" alt=\"Open In Colab\"/></a>"
      ]
    },
    {
      "cell_type": "markdown",
      "metadata": {
        "id": "P65Vjgsj53kQ",
        "colab_type": "text"
      },
      "source": [
        "# Matvei Popov, Auto-encoder with multiple layers for Google Code in \n",
        "I am going to process the images from cifar10 datset, which is included in keras library, they are colored which makes the algorithm a bit more comlex, it is easier for me, cause I don not have to worry about uploading datasets in colab, and it also looks better than gray and white pictures :) \n",
        "\n",
        "I am going to use multiple layers convolutional neural network, lets get started.\n",
        "\n",
        "# Imports: "
      ]
    },
    {
      "cell_type": "code",
      "metadata": {
        "id": "BcV8I2hy53uM",
        "colab_type": "code",
        "outputId": "a5c719f8-265a-434e-b88c-cc22b2bd9bb2",
        "colab": {
          "base_uri": "https://localhost:8080/",
          "height": 98
        }
      },
      "source": [
        "from keras.models import load_model, Model\n",
        "from keras.datasets import cifar10\n",
        "from keras.layers import Input, Dense, Conv2D, MaxPooling2D, UpSampling2D, BatchNormalization, Activation\n",
        "from keras.optimizers import Adam\n",
        "import matplotlib.pyplot as plt\n",
        "import numpy as np"
      ],
      "execution_count": 1,
      "outputs": [
        {
          "output_type": "stream",
          "text": [
            "Using TensorFlow backend.\n"
          ],
          "name": "stderr"
        },
        {
          "output_type": "display_data",
          "data": {
            "text/html": [
              "<p style=\"color: red;\">\n",
              "The default version of TensorFlow in Colab will soon switch to TensorFlow 2.x.<br>\n",
              "We recommend you <a href=\"https://www.tensorflow.org/guide/migrate\" target=\"_blank\">upgrade</a> now \n",
              "or ensure your notebook will continue to use TensorFlow 1.x via the <code>%tensorflow_version 1.x</code> magic:\n",
              "<a href=\"https://colab.research.google.com/notebooks/tensorflow_version.ipynb\" target=\"_blank\">more info</a>.</p>\n"
            ],
            "text/plain": [
              "<IPython.core.display.HTML object>"
            ]
          },
          "metadata": {
            "tags": []
          }
        }
      ]
    },
    {
      "cell_type": "markdown",
      "metadata": {
        "colab_type": "text",
        "id": "cW0GPsh_VIQu"
      },
      "source": [
        "Initializing the parametrs"
      ]
    },
    {
      "cell_type": "code",
      "metadata": {
        "id": "MABfr-M4U3ya",
        "colab_type": "code",
        "colab": {}
      },
      "source": [
        "batch_size = 256\n",
        "epochs = 100"
      ],
      "execution_count": 0,
      "outputs": []
    },
    {
      "cell_type": "markdown",
      "metadata": {
        "id": "rvuHB1VrVQhr",
        "colab_type": "text"
      },
      "source": [
        "Uploading and initializing dataset"
      ]
    },
    {
      "cell_type": "code",
      "metadata": {
        "id": "O5GQYcdtVQxo",
        "colab_type": "code",
        "outputId": "5a62d5ba-4f77-48af-f45c-a722b2e9cbef",
        "colab": {
          "base_uri": "https://localhost:8080/",
          "height": 70
        }
      },
      "source": [
        "(x_train, y_train), (x_test, y_test) = cifar10.load_data()\n",
        "x_train = x_train.astype('float32')/255.\n",
        "x_test = x_test.astype('float32')/255.\n",
        "print(\"Train shape:\", x_train.shape)\n",
        "# Got 50000 images in train dataset, with 32x32 in size"
      ],
      "execution_count": 4,
      "outputs": [
        {
          "output_type": "stream",
          "text": [
            "Downloading data from https://www.cs.toronto.edu/~kriz/cifar-10-python.tar.gz\n",
            "170500096/170498071 [==============================] - 11s 0us/step\n",
            "Train shape: (50000, 32, 32, 3)\n"
          ],
          "name": "stdout"
        }
      ]
    },
    {
      "cell_type": "markdown",
      "metadata": {
        "id": "WSAYFMRFVykr",
        "colab_type": "text"
      },
      "source": [
        "Dividing data into validation and test datasets"
      ]
    },
    {
      "cell_type": "code",
      "metadata": {
        "id": "BQkxXTrpVyvM",
        "colab_type": "code",
        "colab": {}
      },
      "source": [
        "x_validation = x_test[:5000]\n",
        "x_test = x_test[5000:]"
      ],
      "execution_count": 0,
      "outputs": []
    },
    {
      "cell_type": "markdown",
      "metadata": {
        "id": "wANiqi_2WKe9",
        "colab_type": "text"
      },
      "source": [
        "Defining the encoder network layers"
      ]
    },
    {
      "cell_type": "code",
      "metadata": {
        "id": "34kH_6h4WKrZ",
        "colab_type": "code",
        "outputId": "ca329eb3-7a45-4b7d-fc2f-179fb9414746",
        "colab": {
          "base_uri": "https://localhost:8080/",
          "height": 459
        }
      },
      "source": [
        "#Conv2D creates the new convolution layer, BatchNormalization normalizes the activations of the previous layer at each batch, MaxPooling2D reduces the spatial size of the representation.\n",
        "input_img = Input(shape=(32, 32, 3)) #input\n",
        "'''We will start from 3, 3, 64 size for our image and then shrink to new convolution layers, dividing it b 2 every time, our goal is to achieve 8, 3, 3 in size (This a preety small size, so we may ). I am doing it this way because the smooth dvivsion by two guarantees us that we are shrinking it safer, without any assimertic loss of data'''\n",
        "x = Conv2D(64, (3, 3), padding='same', activation='relu')(input_img)\n",
        "# I will also use the function that normalizes the activation of the layer, for a better result\n",
        "x = BatchNormalization()(x)\n",
        "# Using MaxPooling to reduce size until we get the desired, bottleneck size\n",
        "x = MaxPooling2D((2, 2), padding='same')(x)\n",
        "x = Conv2D(32, (3, 3), padding='same', activation='relu')(x)\n",
        "x = BatchNormalization()(x)\n",
        "x = MaxPooling2D((2, 2), padding='same')(x)\n",
        "x = Conv2D(16, (3, 3), padding='same', activation='relu')(x)\n",
        "x = BatchNormalization()(x)\n",
        "x = MaxPooling2D((2, 2), padding='same')(x)\n",
        "x = Conv2D(8, (3, 3), padding='same', activation='relu')(x)\n",
        "x = BatchNormalization()(x)\n",
        "encoded = MaxPooling2D((2, 2), padding='same')(x) #we have reached the bottleneck layer\n"
      ],
      "execution_count": 6,
      "outputs": [
        {
          "output_type": "stream",
          "text": [
            "WARNING:tensorflow:From /usr/local/lib/python3.6/dist-packages/keras/backend/tensorflow_backend.py:66: The name tf.get_default_graph is deprecated. Please use tf.compat.v1.get_default_graph instead.\n",
            "\n",
            "WARNING:tensorflow:From /usr/local/lib/python3.6/dist-packages/keras/backend/tensorflow_backend.py:541: The name tf.placeholder is deprecated. Please use tf.compat.v1.placeholder instead.\n",
            "\n",
            "WARNING:tensorflow:From /usr/local/lib/python3.6/dist-packages/keras/backend/tensorflow_backend.py:4432: The name tf.random_uniform is deprecated. Please use tf.random.uniform instead.\n",
            "\n",
            "WARNING:tensorflow:From /usr/local/lib/python3.6/dist-packages/keras/backend/tensorflow_backend.py:190: The name tf.get_default_session is deprecated. Please use tf.compat.v1.get_default_session instead.\n",
            "\n",
            "WARNING:tensorflow:From /usr/local/lib/python3.6/dist-packages/keras/backend/tensorflow_backend.py:197: The name tf.ConfigProto is deprecated. Please use tf.compat.v1.ConfigProto instead.\n",
            "\n",
            "WARNING:tensorflow:From /usr/local/lib/python3.6/dist-packages/keras/backend/tensorflow_backend.py:203: The name tf.Session is deprecated. Please use tf.compat.v1.Session instead.\n",
            "\n",
            "WARNING:tensorflow:From /usr/local/lib/python3.6/dist-packages/keras/backend/tensorflow_backend.py:207: The name tf.global_variables is deprecated. Please use tf.compat.v1.global_variables instead.\n",
            "\n",
            "WARNING:tensorflow:From /usr/local/lib/python3.6/dist-packages/keras/backend/tensorflow_backend.py:216: The name tf.is_variable_initialized is deprecated. Please use tf.compat.v1.is_variable_initialized instead.\n",
            "\n",
            "WARNING:tensorflow:From /usr/local/lib/python3.6/dist-packages/keras/backend/tensorflow_backend.py:223: The name tf.variables_initializer is deprecated. Please use tf.compat.v1.variables_initializer instead.\n",
            "\n",
            "WARNING:tensorflow:From /usr/local/lib/python3.6/dist-packages/keras/backend/tensorflow_backend.py:2041: The name tf.nn.fused_batch_norm is deprecated. Please use tf.compat.v1.nn.fused_batch_norm instead.\n",
            "\n",
            "WARNING:tensorflow:From /usr/local/lib/python3.6/dist-packages/keras/backend/tensorflow_backend.py:148: The name tf.placeholder_with_default is deprecated. Please use tf.compat.v1.placeholder_with_default instead.\n",
            "\n",
            "WARNING:tensorflow:From /usr/local/lib/python3.6/dist-packages/keras/backend/tensorflow_backend.py:4267: The name tf.nn.max_pool is deprecated. Please use tf.nn.max_pool2d instead.\n",
            "\n"
          ],
          "name": "stdout"
        }
      ]
    },
    {
      "cell_type": "markdown",
      "metadata": {
        "id": "aT4b88T-WwlY",
        "colab_type": "text"
      },
      "source": [
        "Defining decoder network layers"
      ]
    },
    {
      "cell_type": "code",
      "metadata": {
        "id": "IIrVn3Z8WwxH",
        "colab_type": "code",
        "outputId": "14b40972-9432-47fa-ce6a-4aed5b59b121",
        "colab": {
          "base_uri": "https://localhost:8080/",
          "height": 72
        }
      },
      "source": [
        "\n",
        "input_encoded = Input(shape=(3, 3, 8))\n",
        "#We get 3,3,8 size image(bottleneck) in the beginning, now we need to reconstruct it back to 3, 3, 64 image that we started with. \n",
        "x = Conv2D(8, (3, 3), padding='same', activation='relu')(input_encoded)\n",
        "#Using Conv2D in an opposite direction\n",
        "x = BatchNormalization()(x)\n",
        "#Now we use the UpSampling thatis reconstructing the image, by incresing size, doing it until reach the initial size 3,3,64\n",
        "x = UpSampling2D((2, 2))(x)\n",
        "x = Conv2D(16, (3, 3), padding='same', activation='relu')(x)\n",
        "x = BatchNormalization()(x)\n",
        "x = UpSampling2D((2, 2))(x)\n",
        "x = Conv2D(32, (3, 3), padding='same', activation='relu')(x)\n",
        "x = BatchNormalization()(x)\n",
        "x = UpSampling2D((2, 2))(x)\n",
        "x = Conv2D(64, (3, 3), padding='same', activation='relu')(x)\n",
        "x = BatchNormalization()(x)\n",
        "x = UpSampling2D((2, 2))(x)\n",
        "# Our last step is to do last Conv2D layer, with a sigmoid function for activation, since it is the las modification, and normalize it.\n",
        "x = Conv2D(3, (3, 3), padding='same', activation='sigmoid')(x)\n",
        "decoded = BatchNormalization()(x) #we got input back"
      ],
      "execution_count": 7,
      "outputs": [
        {
          "output_type": "stream",
          "text": [
            "WARNING:tensorflow:From /usr/local/lib/python3.6/dist-packages/keras/backend/tensorflow_backend.py:2239: The name tf.image.resize_nearest_neighbor is deprecated. Please use tf.compat.v1.image.resize_nearest_neighbor instead.\n",
            "\n"
          ],
          "name": "stdout"
        }
      ]
    },
    {
      "cell_type": "markdown",
      "metadata": {
        "id": "XrDHDFdGW5rX",
        "colab_type": "text"
      },
      "source": [
        "Initializing encoder, decoder and autoencoder models"
      ]
    },
    {
      "cell_type": "code",
      "metadata": {
        "id": "wj3eLDFXW53L",
        "colab_type": "code",
        "outputId": "d419b0e5-4dcc-401b-e758-16d1708c2492",
        "colab": {
          "base_uri": "https://localhost:8080/",
          "height": 318
        }
      },
      "source": [
        "encoder= Model(input_img, encoded, name=\"encoder\")\n",
        "decoder = Model(input_encoded, decoded, name=\"decoder\")\n",
        "autoencoder = Model(input_img, decoder(encoder(input_img)), name=\"autoencoder\")\n",
        "#should use mean_squared_error because there are 256 color values, so nums are in interval between 0 and 255\n",
        "autoencoder.compile(optimizer='adam', loss='mean_squared_error')\n",
        "#summary for the whole autoencoder network\n",
        "autoencoder.summary()"
      ],
      "execution_count": 8,
      "outputs": [
        {
          "output_type": "stream",
          "text": [
            "WARNING:tensorflow:From /usr/local/lib/python3.6/dist-packages/keras/optimizers.py:793: The name tf.train.Optimizer is deprecated. Please use tf.compat.v1.train.Optimizer instead.\n",
            "\n",
            "Model: \"autoencoder\"\n",
            "_________________________________________________________________\n",
            "Layer (type)                 Output Shape              Param #   \n",
            "=================================================================\n",
            "input_1 (InputLayer)         (None, 32, 32, 3)         0         \n",
            "_________________________________________________________________\n",
            "encoder (Model)              (None, 2, 2, 8)           26520     \n",
            "_________________________________________________________________\n",
            "decoder (Model)              multiple                  27111     \n",
            "=================================================================\n",
            "Total params: 53,631\n",
            "Trainable params: 53,145\n",
            "Non-trainable params: 486\n",
            "_________________________________________________________________\n"
          ],
          "name": "stdout"
        }
      ]
    },
    {
      "cell_type": "markdown",
      "metadata": {
        "id": "7Nhe6eddXeMw",
        "colab_type": "text"
      },
      "source": [
        "Train network"
      ]
    },
    {
      "cell_type": "code",
      "metadata": {
        "id": "itRh2bx8XeZW",
        "colab_type": "code",
        "outputId": "cbab317c-a04c-497c-dcfb-2cc7ba2ab8b6",
        "colab": {
          "base_uri": "https://localhost:8080/",
          "height": 1000
        }
      },
      "source": [
        "autoencoder.fit(x_train, x_train,\n",
        "                epochs=epochs,\n",
        "                batch_size=batch_size,\n",
        "                shuffle=True,\n",
        "                verbose=1,\n",
        "                validation_data=(x_validation, x_validation),\n",
        "                use_multiprocessing=True\n",
        "                )"
      ],
      "execution_count": 9,
      "outputs": [
        {
          "output_type": "stream",
          "text": [
            "WARNING:tensorflow:From /usr/local/lib/python3.6/dist-packages/keras/backend/tensorflow_backend.py:1033: The name tf.assign_add is deprecated. Please use tf.compat.v1.assign_add instead.\n",
            "\n",
            "WARNING:tensorflow:From /usr/local/lib/python3.6/dist-packages/keras/backend/tensorflow_backend.py:1020: The name tf.assign is deprecated. Please use tf.compat.v1.assign instead.\n",
            "\n",
            "Train on 50000 samples, validate on 5000 samples\n",
            "Epoch 1/100\n",
            "50000/50000 [==============================] - 24s 489us/step - loss: 0.5208 - val_loss: 0.2488\n",
            "Epoch 2/100\n",
            "50000/50000 [==============================] - 18s 359us/step - loss: 0.0963 - val_loss: 0.1436\n",
            "Epoch 3/100\n",
            "50000/50000 [==============================] - 18s 356us/step - loss: 0.0524 - val_loss: 0.1523\n",
            "Epoch 4/100\n",
            "50000/50000 [==============================] - 18s 357us/step - loss: 0.0385 - val_loss: 0.1935\n",
            "Epoch 5/100\n",
            "50000/50000 [==============================] - 18s 358us/step - loss: 0.0340 - val_loss: 0.1780\n",
            "Epoch 6/100\n",
            "50000/50000 [==============================] - 18s 359us/step - loss: 0.0303 - val_loss: 0.1691\n",
            "Epoch 7/100\n",
            "50000/50000 [==============================] - 18s 357us/step - loss: 0.0285 - val_loss: 0.1834\n",
            "Epoch 8/100\n",
            "50000/50000 [==============================] - 18s 358us/step - loss: 0.0270 - val_loss: 0.1728\n",
            "Epoch 9/100\n",
            "50000/50000 [==============================] - 18s 359us/step - loss: 0.0255 - val_loss: 0.1488\n",
            "Epoch 10/100\n",
            "50000/50000 [==============================] - 18s 359us/step - loss: 0.0239 - val_loss: 0.1111\n",
            "Epoch 11/100\n",
            "50000/50000 [==============================] - 18s 356us/step - loss: 0.0232 - val_loss: 0.1300\n",
            "Epoch 12/100\n",
            "50000/50000 [==============================] - 18s 358us/step - loss: 0.0220 - val_loss: 0.0727\n",
            "Epoch 13/100\n",
            "50000/50000 [==============================] - 18s 359us/step - loss: 0.0211 - val_loss: 0.0547\n",
            "Epoch 14/100\n",
            "50000/50000 [==============================] - 18s 360us/step - loss: 0.0206 - val_loss: 0.0653\n",
            "Epoch 15/100\n",
            "50000/50000 [==============================] - 18s 360us/step - loss: 0.0199 - val_loss: 0.0378\n",
            "Epoch 16/100\n",
            "50000/50000 [==============================] - 18s 360us/step - loss: 0.0194 - val_loss: 0.0336\n",
            "Epoch 17/100\n",
            "50000/50000 [==============================] - 18s 361us/step - loss: 0.0191 - val_loss: 0.0357\n",
            "Epoch 18/100\n",
            "50000/50000 [==============================] - 18s 362us/step - loss: 0.0188 - val_loss: 0.0311\n",
            "Epoch 19/100\n",
            "50000/50000 [==============================] - 18s 360us/step - loss: 0.0185 - val_loss: 0.0298\n",
            "Epoch 20/100\n",
            "50000/50000 [==============================] - 18s 362us/step - loss: 0.0181 - val_loss: 0.0238\n",
            "Epoch 21/100\n",
            "50000/50000 [==============================] - 18s 362us/step - loss: 0.0179 - val_loss: 0.0220\n",
            "Epoch 22/100\n",
            "50000/50000 [==============================] - 18s 362us/step - loss: 0.0178 - val_loss: 0.0231\n",
            "Epoch 23/100\n",
            "50000/50000 [==============================] - 18s 361us/step - loss: 0.0176 - val_loss: 0.0242\n",
            "Epoch 24/100\n",
            "50000/50000 [==============================] - 18s 361us/step - loss: 0.0172 - val_loss: 0.0194\n",
            "Epoch 25/100\n",
            "50000/50000 [==============================] - 18s 361us/step - loss: 0.0170 - val_loss: 0.0188\n",
            "Epoch 26/100\n",
            "50000/50000 [==============================] - 18s 362us/step - loss: 0.0169 - val_loss: 0.0185\n",
            "Epoch 27/100\n",
            "50000/50000 [==============================] - 18s 362us/step - loss: 0.0167 - val_loss: 0.0170\n",
            "Epoch 28/100\n",
            "50000/50000 [==============================] - 18s 361us/step - loss: 0.0165 - val_loss: 0.0226\n",
            "Epoch 29/100\n",
            "50000/50000 [==============================] - 18s 361us/step - loss: 0.0172 - val_loss: 0.0180\n",
            "Epoch 30/100\n",
            "50000/50000 [==============================] - 18s 360us/step - loss: 0.0163 - val_loss: 0.0180\n",
            "Epoch 31/100\n",
            "50000/50000 [==============================] - 18s 361us/step - loss: 0.0161 - val_loss: 0.0183\n",
            "Epoch 32/100\n",
            "50000/50000 [==============================] - 18s 361us/step - loss: 0.0160 - val_loss: 0.0173\n",
            "Epoch 33/100\n",
            "50000/50000 [==============================] - 18s 361us/step - loss: 0.0158 - val_loss: 0.0165\n",
            "Epoch 34/100\n",
            "50000/50000 [==============================] - 18s 359us/step - loss: 0.0157 - val_loss: 0.0165\n",
            "Epoch 35/100\n",
            "50000/50000 [==============================] - 18s 362us/step - loss: 0.0156 - val_loss: 0.0165\n",
            "Epoch 36/100\n",
            "50000/50000 [==============================] - 18s 362us/step - loss: 0.0156 - val_loss: 0.0179\n",
            "Epoch 37/100\n",
            "50000/50000 [==============================] - 18s 361us/step - loss: 0.0154 - val_loss: 0.0163\n",
            "Epoch 38/100\n",
            "50000/50000 [==============================] - 18s 360us/step - loss: 0.0153 - val_loss: 0.0154\n",
            "Epoch 39/100\n",
            "50000/50000 [==============================] - 18s 361us/step - loss: 0.0153 - val_loss: 0.0155\n",
            "Epoch 40/100\n",
            "50000/50000 [==============================] - 18s 361us/step - loss: 0.0157 - val_loss: 0.0162\n",
            "Epoch 41/100\n",
            "50000/50000 [==============================] - 18s 360us/step - loss: 0.0153 - val_loss: 0.0161\n",
            "Epoch 42/100\n",
            "50000/50000 [==============================] - 18s 360us/step - loss: 0.0151 - val_loss: 0.0157\n",
            "Epoch 43/100\n",
            "50000/50000 [==============================] - 18s 361us/step - loss: 0.0151 - val_loss: 0.0163\n",
            "Epoch 44/100\n",
            "50000/50000 [==============================] - 18s 361us/step - loss: 0.0150 - val_loss: 0.0152\n",
            "Epoch 45/100\n",
            "50000/50000 [==============================] - 18s 359us/step - loss: 0.0149 - val_loss: 0.0151\n",
            "Epoch 46/100\n",
            "50000/50000 [==============================] - 18s 358us/step - loss: 0.0149 - val_loss: 0.0151\n",
            "Epoch 47/100\n",
            "50000/50000 [==============================] - 18s 356us/step - loss: 0.0148 - val_loss: 0.0163\n",
            "Epoch 48/100\n",
            "50000/50000 [==============================] - 18s 355us/step - loss: 0.0149 - val_loss: 0.0159\n",
            "Epoch 49/100\n",
            "50000/50000 [==============================] - 18s 355us/step - loss: 0.0149 - val_loss: 0.0151\n",
            "Epoch 50/100\n",
            "50000/50000 [==============================] - 18s 359us/step - loss: 0.0147 - val_loss: 0.0151\n",
            "Epoch 51/100\n",
            "50000/50000 [==============================] - 18s 360us/step - loss: 0.0147 - val_loss: 0.0146\n",
            "Epoch 52/100\n",
            "50000/50000 [==============================] - 18s 361us/step - loss: 0.0146 - val_loss: 0.0148\n",
            "Epoch 53/100\n",
            "50000/50000 [==============================] - 18s 357us/step - loss: 0.0146 - val_loss: 0.0151\n",
            "Epoch 54/100\n",
            "50000/50000 [==============================] - 18s 358us/step - loss: 0.0146 - val_loss: 0.0147\n",
            "Epoch 55/100\n",
            "50000/50000 [==============================] - 18s 357us/step - loss: 0.0146 - val_loss: 0.0149\n",
            "Epoch 56/100\n",
            "50000/50000 [==============================] - 18s 361us/step - loss: 0.0145 - val_loss: 0.0146\n",
            "Epoch 57/100\n",
            "50000/50000 [==============================] - 18s 359us/step - loss: 0.0145 - val_loss: 0.0145\n",
            "Epoch 58/100\n",
            "50000/50000 [==============================] - 18s 358us/step - loss: 0.0144 - val_loss: 0.0145\n",
            "Epoch 59/100\n",
            "50000/50000 [==============================] - 18s 360us/step - loss: 0.0145 - val_loss: 0.0474\n",
            "Epoch 60/100\n",
            "50000/50000 [==============================] - 18s 361us/step - loss: 0.0219 - val_loss: 0.1179\n",
            "Epoch 61/100\n",
            "50000/50000 [==============================] - 18s 362us/step - loss: 0.0167 - val_loss: 0.0341\n",
            "Epoch 62/100\n",
            "50000/50000 [==============================] - 18s 360us/step - loss: 0.0157 - val_loss: 0.0167\n",
            "Epoch 63/100\n",
            "50000/50000 [==============================] - 18s 360us/step - loss: 0.0153 - val_loss: 0.0161\n",
            "Epoch 64/100\n",
            "50000/50000 [==============================] - 18s 356us/step - loss: 0.0151 - val_loss: 0.0156\n",
            "Epoch 65/100\n",
            "50000/50000 [==============================] - 18s 357us/step - loss: 0.0149 - val_loss: 0.0155\n",
            "Epoch 66/100\n",
            "50000/50000 [==============================] - 18s 358us/step - loss: 0.0149 - val_loss: 0.0149\n",
            "Epoch 67/100\n",
            "50000/50000 [==============================] - 18s 358us/step - loss: 0.0148 - val_loss: 0.0152\n",
            "Epoch 68/100\n",
            "50000/50000 [==============================] - 18s 357us/step - loss: 0.0147 - val_loss: 0.0151\n",
            "Epoch 69/100\n",
            "50000/50000 [==============================] - 18s 359us/step - loss: 0.0147 - val_loss: 0.0146\n",
            "Epoch 70/100\n",
            "50000/50000 [==============================] - 18s 356us/step - loss: 0.0148 - val_loss: 0.0148\n",
            "Epoch 71/100\n",
            "50000/50000 [==============================] - 18s 354us/step - loss: 0.0146 - val_loss: 0.0147\n",
            "Epoch 72/100\n",
            "50000/50000 [==============================] - 18s 354us/step - loss: 0.0145 - val_loss: 0.0148\n",
            "Epoch 73/100\n",
            "50000/50000 [==============================] - 18s 353us/step - loss: 0.0145 - val_loss: 0.0149\n",
            "Epoch 74/100\n",
            "50000/50000 [==============================] - 18s 356us/step - loss: 0.0145 - val_loss: 0.0148\n",
            "Epoch 75/100\n",
            "50000/50000 [==============================] - 18s 356us/step - loss: 0.0144 - val_loss: 0.0145\n",
            "Epoch 76/100\n",
            "50000/50000 [==============================] - 18s 356us/step - loss: 0.0144 - val_loss: 0.0145\n",
            "Epoch 77/100\n",
            "50000/50000 [==============================] - 18s 358us/step - loss: 0.0144 - val_loss: 0.0147\n",
            "Epoch 78/100\n",
            "50000/50000 [==============================] - 18s 358us/step - loss: 0.0143 - val_loss: 0.0146\n",
            "Epoch 79/100\n",
            "50000/50000 [==============================] - 18s 356us/step - loss: 0.0143 - val_loss: 0.0143\n",
            "Epoch 80/100\n",
            "50000/50000 [==============================] - 18s 357us/step - loss: 0.0143 - val_loss: 0.0146\n",
            "Epoch 81/100\n",
            "50000/50000 [==============================] - 18s 360us/step - loss: 0.0143 - val_loss: 0.0144\n",
            "Epoch 82/100\n",
            "50000/50000 [==============================] - 18s 358us/step - loss: 0.0143 - val_loss: 0.0145\n",
            "Epoch 83/100\n",
            "50000/50000 [==============================] - 18s 356us/step - loss: 0.0142 - val_loss: 0.0143\n",
            "Epoch 84/100\n",
            "50000/50000 [==============================] - 18s 359us/step - loss: 0.0142 - val_loss: 0.0144\n",
            "Epoch 85/100\n",
            "50000/50000 [==============================] - 18s 359us/step - loss: 0.0142 - val_loss: 0.0143\n",
            "Epoch 86/100\n",
            "50000/50000 [==============================] - 18s 358us/step - loss: 0.0141 - val_loss: 0.0142\n",
            "Epoch 87/100\n",
            "50000/50000 [==============================] - 18s 359us/step - loss: 0.0142 - val_loss: 0.0144\n",
            "Epoch 88/100\n",
            "50000/50000 [==============================] - 18s 360us/step - loss: 0.0141 - val_loss: 0.0144\n",
            "Epoch 89/100\n",
            "50000/50000 [==============================] - 18s 362us/step - loss: 0.0141 - val_loss: 0.0148\n",
            "Epoch 90/100\n",
            "50000/50000 [==============================] - 18s 362us/step - loss: 0.0141 - val_loss: 0.0142\n",
            "Epoch 91/100\n",
            "50000/50000 [==============================] - 18s 361us/step - loss: 0.0141 - val_loss: 0.0144\n",
            "Epoch 92/100\n",
            "50000/50000 [==============================] - 18s 360us/step - loss: 0.0141 - val_loss: 0.0148\n",
            "Epoch 93/100\n",
            "50000/50000 [==============================] - 18s 361us/step - loss: 0.0141 - val_loss: 0.0144\n",
            "Epoch 94/100\n",
            "50000/50000 [==============================] - 18s 359us/step - loss: 0.0140 - val_loss: 0.0210\n",
            "Epoch 95/100\n",
            "50000/50000 [==============================] - 18s 359us/step - loss: 0.0144 - val_loss: 0.0143\n",
            "Epoch 96/100\n",
            "50000/50000 [==============================] - 18s 358us/step - loss: 0.0141 - val_loss: 0.0141\n",
            "Epoch 97/100\n",
            "50000/50000 [==============================] - 18s 358us/step - loss: 0.0140 - val_loss: 0.0143\n",
            "Epoch 98/100\n",
            "50000/50000 [==============================] - 18s 357us/step - loss: 0.0140 - val_loss: 0.0140\n",
            "Epoch 99/100\n",
            "50000/50000 [==============================] - 18s 360us/step - loss: 0.0139 - val_loss: 0.0153\n",
            "Epoch 100/100\n",
            "50000/50000 [==============================] - 18s 362us/step - loss: 0.0139 - val_loss: 0.0142\n"
          ],
          "name": "stdout"
        },
        {
          "output_type": "execute_result",
          "data": {
            "text/plain": [
              "<keras.callbacks.History at 0x7fe090082f28>"
            ]
          },
          "metadata": {
            "tags": []
          },
          "execution_count": 9
        }
      ]
    },
    {
      "cell_type": "markdown",
      "metadata": {
        "id": "tAGtScwMXp1I",
        "colab_type": "text"
      },
      "source": [
        "Calculating the score for autoencoder, test, validate (I definetly did not get the best ones)"
      ]
    },
    {
      "cell_type": "code",
      "metadata": {
        "id": "ushLJMBCXqAa",
        "colab_type": "code",
        "colab": {
          "base_uri": "https://localhost:8080/",
          "height": 70
        },
        "outputId": "033a62d8-777a-43c3-ee67-2dd3bb51dfe0"
      },
      "source": [
        "score = autoencoder.evaluate(x_test, x_test)\n",
        "print(score)\n",
        "test = autoencoder.predict(x_test)\n",
        "validate = autoencoder.predict(x_validation)\n",
        "print(\"Test:\",np.average(test), \"Validate:\", np.average(validate))"
      ],
      "execution_count": 10,
      "outputs": [
        {
          "output_type": "stream",
          "text": [
            "5000/5000 [==============================] - 1s 256us/step\n",
            "0.013930308565497398\n",
            "Test: 0.4710047 Validate: 0.4773331\n"
          ],
          "name": "stdout"
        }
      ]
    },
    {
      "cell_type": "markdown",
      "metadata": {
        "id": "-1Y34lKGt_e-",
        "colab_type": "text"
      },
      "source": [
        "Displaying the result for test datset"
      ]
    },
    {
      "cell_type": "code",
      "metadata": {
        "id": "KEOAzCgutQx5",
        "colab_type": "code",
        "colab": {
          "base_uri": "https://localhost:8080/",
          "height": 306
        },
        "outputId": "3dc049be-53ce-4ef0-f6f8-a095e157f1a5"
      },
      "source": [
        "plt.figure(figsize=(20, 5))\n",
        "for i in range(0,3):\n",
        "  # display original data\n",
        "  ax = plt.subplot(2, 5, i+1)\n",
        "  plt.imshow(x_test[i].reshape(32, 32, 3))\n",
        "  ax.get_xaxis().set_visible(False)\n",
        "  ax.get_yaxis().set_visible(False)\n",
        "\n",
        "  # display encode-decode data\n",
        "  ax = plt.subplot(2, 5, i +1 + 5)\n",
        "  plt.imshow(test[i].reshape(32, 32, 3))\n",
        "  ax.get_xaxis().set_visible(False)\n",
        "  ax.get_yaxis().set_visible(False)\n",
        "plt.show()"
      ],
      "execution_count": 11,
      "outputs": [
        {
          "output_type": "display_data",
          "data": {
            "image/png": "[encoded data removed]",
            "text/plain": [
              "<Figure size 1440x360 with 6 Axes>"
            ]
          },
          "metadata": {
            "tags": []
          }
        }
      ]
    },
    {
      "cell_type": "markdown",
      "metadata": {
        "id": "2y5VcDbLuDl2",
        "colab_type": "text"
      },
      "source": [
        "Displaying the result for validate dataset"
      ]
    },
    {
      "cell_type": "code",
      "metadata": {
        "id": "mU6FircKueio",
        "colab_type": "code",
        "colab": {
          "base_uri": "https://localhost:8080/",
          "height": 343
        },
        "outputId": "49898071-9dbf-46d2-bf24-83481cb46d14"
      },
      "source": [
        "plt.figure(figsize=(20, 5))\n",
        "for i in range(2,5):\n",
        "  ax = plt.subplot(2, 5, i+1)\n",
        "  plt.imshow(x_validation[i].reshape(32, 32, 3))\n",
        "  ax.get_xaxis().set_visible(False)\n",
        "  ax.get_yaxis().set_visible(False)\n",
        "\n",
        "  ax = plt.subplot(2, 5, i +1 + 5)\n",
        "  plt.imshow(validate[i].reshape(32, 32, 3))\n",
        "  ax.get_xaxis().set_visible(False)\n",
        "  ax.get_yaxis().set_visible(False)\n",
        "plt.show()"
      ],
      "execution_count": 12,
      "outputs": [
        {
          "output_type": "stream",
          "text": [
            "Clipping input data to the valid range for imshow with RGB data ([0..1] for floats or [0..255] for integers).\n"
          ],
          "name": "stderr"
        },
        {
          "output_type": "display_data",
          "data": {
            "image/png": "[encoded data removed]",
            "text/plain": [
              "<Figure size 1440x360 with 6 Axes>"
            ]
          },
          "metadata": {
            "tags": []
          }
        }
      ]
    },
    {
      "cell_type": "markdown",
      "metadata": {
        "id": "JKsVumdSvBRU",
        "colab_type": "text"
      },
      "source": [
        "# Overall, I did  not get the best result, I am confused about where I could have made a mistake but right now autoencoder poorly does its job."
      ]
    }
  ]
}